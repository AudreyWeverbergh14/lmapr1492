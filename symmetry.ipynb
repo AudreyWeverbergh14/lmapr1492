{
 "cells": [
  {
   "cell_type": "markdown",
   "metadata": {},
   "source": [
    "**TACHE 6 : Etudier 3 éléments de symétrie différents, chacun pour 1 atome différent**"
   ]
  },
  {
   "cell_type": "code",
   "execution_count": 1,
   "metadata": {},
   "outputs": [],
   "source": [
    "# Import \n",
    "import numpy as np\n",
    "from pymatgen import Lattice, Structure, Molecule\n",
    "from pymatgen.ext.matproj import MPRester\n",
    "from pymatgen.symmetry.analyzer import SpacegroupAnalyzer\n",
    "from pymatgen.core.operations import *\n",
    "from jupyter_jsmol.pymatgen import quick_view\n",
    "from math import *"
   ]
  },
  {
   "cell_type": "code",
   "execution_count": 2,
   "metadata": {},
   "outputs": [],
   "source": [
    "# Accéder aux données liées au cristal NaHF2 via l'API\n",
    "with MPRester(\"gTFWb3O68X2aDOkOAmv\") as m:\n",
    "    # Structure for material id\n",
    "    structure = m.get_structure_by_material_id(\"mp-27837\")"
   ]
  },
  {
   "cell_type": "markdown",
   "metadata": {},
   "source": [
    "Pour cet exercice, nous allons tout d'abord chercher, dans le fichier cif de la maille conventionnelle, l'opération de symétrie que l'on veut ainsi que la position de l'atome initial. Entuite, nous appliquons l'opération sur cet atome pour obtenir les coordonnées de l'atome final ainsi que la matrice de rotation et le vecteur de translation caractérisant l'opération. Puis nous ramenons l'atome final dans la maille initiale si nécessaire. Enfin, nous visualisons cette opération de symétrie dans la maille conventionnelle. Si la symétrie ne s'affiche pas, il faut alors exécuter une nouvelle fois la cellule de code. "
   ]
  },
  {
   "cell_type": "markdown",
   "metadata": {},
   "source": [
    "**Première opération de symétrie : (x+2/3, y+1/3, z+1/3)**"
   ]
  },
  {
   "cell_type": "code",
   "execution_count": 3,
   "metadata": {},
   "outputs": [
    {
     "name": "stdout",
     "output_type": "stream",
     "text": [
      "Les coordonnées de l'atome Na initial sont: [0.0, 0.0, 0.0] .\n",
      "\n",
      "La matrice de rotation 'Rot' et le vecteur translation 'tau' de cette opération sont: \n",
      " Rot:\n",
      "[[1. 0. 0.]\n",
      " [0. 1. 0.]\n",
      " [0. 0. 1.]]\n",
      "tau\n",
      "[0.66666667 0.33333333 0.33333333] \n",
      "\n",
      "Cette opération de symétrie peut se caractériser par l'équation suivante:\n",
      "\n"
     ]
    }
   ],
   "source": [
    "Sym1 = SymmOp.from_xyz_string(\"x+2/3, y+1/3, z+1/3\")\n",
    "\n",
    "# Coordonnées de l'atome de départ :\n",
    "Na = [0.0, 0.0, 0.0]\n",
    "\n",
    "# Application de l'opération de symétrie\n",
    "print(\"Les coordonnées de l'atome Na initial sont:\", Na, \".\\n\")\n",
    "print(\"La matrice de rotation 'Rot' et le vecteur translation 'tau' de cette opération sont: \\n\",Sym1, \"\\n\")\n",
    "print(\"Cette opération de symétrie peut se caractériser par l'équation suivante:\\n\")"
   ]
  },
  {
   "cell_type": "markdown",
   "metadata": {},
   "source": [
    "$$\\begin{pmatrix}\n",
    "    1 & 0 & 0 \\\\ \n",
    "    0 & 1 & 0 \\\\ \n",
    "    0 & 0 & 1 \n",
    "\\end{pmatrix} \\begin{pmatrix}\n",
    "    x \\\\ \n",
    "    y \\\\ \n",
    "    z \n",
    "\\end{pmatrix} + \\begin{pmatrix}\n",
    "    2/3 \\\\ \n",
    "    1/3 \\\\ \n",
    "    1/3 \n",
    "\\end{pmatrix} = \\begin{pmatrix}\n",
    "    x + 2/3 \\\\ \n",
    "    y + 1/3 \\\\ \n",
    "    z + 1/3\n",
    "\\end{pmatrix}  $$"
   ]
  },
  {
   "cell_type": "code",
   "execution_count": 4,
   "metadata": {},
   "outputs": [
    {
     "name": "stdout",
     "output_type": "stream",
     "text": [
      "Les coordonnées de l'atome Na final sont: [0.66666667 0.33333333 0.33333333] .\n",
      "\n",
      "Cette opération est une translation de vecteur 'tau'. \n",
      "\n",
      "Voici la représentation de cette opération de symétrie sur l'atome Na numéro 1: \n",
      "\n"
     ]
    },
    {
     "data": {
      "application/vnd.jupyter.widget-view+json": {
       "model_id": "9892304074704556ae8095c135d11226",
       "version_major": 2,
       "version_minor": 0
      },
      "text/plain": [
       "JsmolView(layout=Layout(align_self='stretch', height='400px'))"
      ]
     },
     "metadata": {},
     "output_type": "display_data"
    }
   ],
   "source": [
    "print(\"Les coordonnées de l'atome Na final sont:\", Sym1.operate(Na), \".\\n\")\n",
    "print(\"Cette opération est une translation de vecteur 'tau'.\", \"\\n\")\n",
    "print(\"Voici la représentation de cette opération de symétrie sur l'atome Na numéro 1:\", \"\\n\")\n",
    "\n",
    "view = quick_view(structure, \"packed\", conventional = True)\n",
    "display(view)\n",
    "view.script(\"draw symop 13 {atomno=1}\")"
   ]
  },
  {
   "cell_type": "markdown",
   "metadata": {},
   "source": [
    "**Deuxième opération de symétrie : (-x, -y, -z)**"
   ]
  },
  {
   "cell_type": "code",
   "execution_count": 6,
   "metadata": {
    "scrolled": false
   },
   "outputs": [
    {
     "name": "stdout",
     "output_type": "stream",
     "text": [
      "Les coordonnées de l'atome H initial sont: [0.0, 0.0, 0.5] .\n",
      "\n",
      "La matrice de rotation 'Rot' et le vecteur translation 'tau' de cette opération sont: \n",
      " Rot:\n",
      "[[-1.  0.  0.]\n",
      " [ 0. -1.  0.]\n",
      " [ 0.  0. -1.]]\n",
      "tau\n",
      "[0. 0. 0.] \n",
      "\n",
      "Cette opération de symétrie peut se caractériser par l'équation suivante:\n",
      "\n"
     ]
    }
   ],
   "source": [
    "Sym2 = SymmOp.from_xyz_string(\"-x, -y, -z\")\n",
    "\n",
    "# Coordonnées de l'atome de départ :\n",
    "H = [0.0, 0.0, 0.5]\n",
    "\n",
    "# Application de l'opération de symétrie\n",
    "print(\"Les coordonnées de l'atome H initial sont:\", H, \".\\n\")\n",
    "print(\"La matrice de rotation 'Rot' et le vecteur translation 'tau' de cette opération sont: \\n\",Sym2, \"\\n\")\n",
    "print(\"Cette opération de symétrie peut se caractériser par l'équation suivante:\\n\")"
   ]
  },
  {
   "cell_type": "markdown",
   "metadata": {},
   "source": [
    "$$\\begin{pmatrix}\n",
    "    -1 & 0 & 0 \\\\ \n",
    "    0 & -1 & 0 \\\\ \n",
    "    0 & 0 & -1 \n",
    "\\end{pmatrix} \\begin{pmatrix}\n",
    "    x \\\\ \n",
    "    y \\\\ \n",
    "    z \n",
    "\\end{pmatrix} + \\begin{pmatrix}\n",
    "    0 \\\\ \n",
    "    0 \\\\ \n",
    "    0 \n",
    "\\end{pmatrix} = \\begin{pmatrix}\n",
    "    -x \\\\ \n",
    "    -y \\\\ \n",
    "    -z\n",
    "\\end{pmatrix}  $$"
   ]
  },
  {
   "cell_type": "code",
   "execution_count": 7,
   "metadata": {},
   "outputs": [
    {
     "name": "stdout",
     "output_type": "stream",
     "text": [
      "Les coordonnées de l'atome H final sont: [ 0.   0.  -0.5] .\n",
      "\n",
      "Cette opération est un inversion dont le centre est (0,0,0). \n",
      "\n",
      "On peut ramener ces coordonnées dans la maille initiale : [ 0.0 0.0 0.5 ] .\n",
      "\n",
      "Voici la représentation de cette opération de symétrie sur l'atome H numéro 20:\n"
     ]
    },
    {
     "data": {
      "application/vnd.jupyter.widget-view+json": {
       "model_id": "6c9cf9e48def46b6b32af551f73847d4",
       "version_major": 2,
       "version_minor": 0
      },
      "text/plain": [
       "JsmolView(layout=Layout(align_self='stretch', height='400px'))"
      ]
     },
     "metadata": {},
     "output_type": "display_data"
    }
   ],
   "source": [
    "print(\"Les coordonnées de l'atome H final sont:\", Sym2.operate(H), \".\\n\")\n",
    "print(\"Cette opération est un inversion dont le centre est (0,0,0).\", \"\\n\")\n",
    "print(\"On peut ramener ces coordonnées dans la maille initiale :\", \"[\",Sym2.operate(H)[0], Sym2.operate(H)[1], Sym2.operate(H)[2]+1,\"]\", \".\\n\")\n",
    "print(\"Voici la représentation de cette opération de symétrie sur l'atome H numéro 20:\")\n",
    "view = quick_view(structure, conventional = True)\n",
    "display(view)\n",
    "view.script(\"draw symop 2 {atomno=20}\")"
   ]
  },
  {
   "cell_type": "markdown",
   "metadata": {},
   "source": [
    "**Troisième opération de symétrie : (-y + 2/3, -x + 1/3, z + 1/3)**"
   ]
  },
  {
   "cell_type": "code",
   "execution_count": 9,
   "metadata": {
    "scrolled": false
   },
   "outputs": [
    {
     "name": "stdout",
     "output_type": "stream",
     "text": [
      "Les coordonnées de l'atome F initial sont: [0.0, 0.0, 0.417174] .\n",
      "\n",
      "La matrice de rotation 'Rot' et le vecteur translation 'tau' de cette opération sont: \n",
      " Rot:\n",
      "[[ 0. -1.  0.]\n",
      " [-1.  0.  0.]\n",
      " [ 0.  0.  1.]]\n",
      "tau\n",
      "[0.66666667 0.33333333 0.33333333] \n",
      "\n",
      "Cette opération de symétrie peut se caractériser par l'équation suivante:\n",
      "\n"
     ]
    }
   ],
   "source": [
    "Sym3 = SymmOp.from_xyz_string(\"-y + 2/3, -x + 1/3, z + 1/3\")\n",
    "\n",
    "# Coordonnées de l'atome de départ :\n",
    "F = [0.0, 0.0, 0.41717400]\n",
    "\n",
    "# Application de l'opération de symétrie\n",
    "print(\"Les coordonnées de l'atome F initial sont:\", F,\".\\n\")\n",
    "print(\"La matrice de rotation 'Rot' et le vecteur translation 'tau' de cette opération sont: \\n\",Sym3,\"\\n\")\n",
    "print(\"Cette opération de symétrie peut se caractériser par l'équation suivante:\\n\")"
   ]
  },
  {
   "cell_type": "markdown",
   "metadata": {},
   "source": [
    "$$\\begin{pmatrix}\n",
    "    0 & -1 & 0 \\\\ \n",
    "    -1 & 0 & 0 \\\\ \n",
    "    0 & 0 & 1 \n",
    "\\end{pmatrix} \\begin{pmatrix}\n",
    "    x \\\\ \n",
    "    y \\\\ \n",
    "    z \n",
    "\\end{pmatrix} + \\begin{pmatrix}\n",
    "    2/3 \\\\ \n",
    "    1/3 \\\\ \n",
    "    1/3 \n",
    "\\end{pmatrix} = \\begin{pmatrix}\n",
    "    -y + 2/3 \\\\ \n",
    "    -x + 1/3\\\\ \n",
    "    z + 1/3\n",
    "\\end{pmatrix}  $$"
   ]
  },
  {
   "cell_type": "code",
   "execution_count": 10,
   "metadata": {
    "scrolled": false
   },
   "outputs": [
    {
     "name": "stdout",
     "output_type": "stream",
     "text": [
      "Les coordonnées de l'atome F final sont: [0.66666667 0.33333333 0.75050733] .\n",
      "\n",
      "Cette opération est une réflexion par rapport à un plan miroir perpendiculaire aux vecteurs de bases a et b suivie d'une translation de vecteur 'tau'. \n",
      "\n",
      "Voici la représentation de cette opération de symétrie sur l'atome F numéro 3:\n",
      "La translation est faite avec un vecteur [-1/3, 1/3, 1/3], mais cela revient au même, en ramenant l'atome dans la maille initiale.\n"
     ]
    },
    {
     "data": {
      "application/vnd.jupyter.widget-view+json": {
       "model_id": "c32a248d719c4cf98cdc23eb4a0db057",
       "version_major": 2,
       "version_minor": 0
      },
      "text/plain": [
       "JsmolView(layout=Layout(align_self='stretch', height='400px'))"
      ]
     },
     "metadata": {},
     "output_type": "display_data"
    }
   ],
   "source": [
    "print(\"Les coordonnées de l'atome F final sont:\", Sym3.operate(F),\".\\n\")\n",
    "print(\"Cette opération est une réflexion par rapport à un plan miroir perpendiculaire aux vecteurs de bases a et b suivie d'une translation de vecteur 'tau'.\",\"\\n\")\n",
    "\n",
    "print(\"Voici la représentation de cette opération de symétrie sur l'atome F numéro 3:\")\n",
    "print(\"La translation est faite avec un vecteur [-1/3, 1/3, 1/3], mais cela revient au même, en ramenant l'atome dans la maille initiale.\")\n",
    "view = quick_view(structure, conventional = True)\n",
    "display(view)\n",
    "view.script(\"draw symop 20 {atomno=3}\")"
   ]
  },
  {
   "cell_type": "code",
   "execution_count": null,
   "metadata": {},
   "outputs": [],
   "source": []
  },
  {
   "cell_type": "code",
   "execution_count": null,
   "metadata": {},
   "outputs": [],
   "source": []
  }
 ],
 "metadata": {
  "kernelspec": {
   "display_name": "Python 3",
   "language": "python",
   "name": "python3"
  },
  "language_info": {
   "codemirror_mode": {
    "name": "ipython",
    "version": 3
   },
   "file_extension": ".py",
   "mimetype": "text/x-python",
   "name": "python",
   "nbconvert_exporter": "python",
   "pygments_lexer": "ipython3",
   "version": "3.8.2"
  }
 },
 "nbformat": 4,
 "nbformat_minor": 4
}
