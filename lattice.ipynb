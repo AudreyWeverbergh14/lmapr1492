{
 "cells": [
  {
   "cell_type": "code",
   "execution_count": 14,
   "id": "interracial-institute",
   "metadata": {},
   "outputs": [],
   "source": [
    "# Import \n",
    "import numpy as np\n",
    "from pymatgen import Lattice, Structure, Molecule\n",
    "from pymatgen.ext.matproj import MPRester\n",
    "from pymatgen.symmetry.analyzer import SpacegroupAnalyzer\n",
    "from pymatgen.analysis.diffraction.xrd import XRDCalculator\n",
    "from pymatgen.electronic_structure.plotter import BSPlotter\n",
    "from jupyter_jsmol.pymatgen import quick_view"
   ]
  },
  {
   "cell_type": "code",
   "execution_count": 15,
   "id": "wound-pharmacology",
   "metadata": {},
   "outputs": [],
   "source": [
    "# Accéder aux données liées au cristal Na H F2 via l'API\n",
    "with MPRester(\"gTFWb3O68X2aDOkOAmv\") as m:\n",
    "\n",
    "    # Structure for material id\n",
    "    structure = m.get_structure_by_material_id(\"mp-27837\")\n",
    "    \n",
    "Analyseur = SpacegroupAnalyzer(structure)"
   ]
  },
  {
   "cell_type": "code",
   "execution_count": 30,
   "id": "expanded-myrtle",
   "metadata": {
    "scrolled": true
   },
   "outputs": [
    {
     "name": "stdout",
     "output_type": "stream",
     "text": [
      "Les vecteurs de base du réseau direct sont a = 5.049110289755711, b = 5.049110289755711 et c = 5.049111089587651.\n"
     ]
    }
   ],
   "source": [
    "print(\"Les vecteurs de base du réseau direct sont a = {0}, b = {1} et c = {2}.\".format(structure.lattice.abc[0], structure.lattice.abc[1], structure.lattice.abc[2]))"
   ]
  },
  {
   "cell_type": "code",
   "execution_count": 32,
   "id": "surprised-buffer",
   "metadata": {
    "scrolled": false
   },
   "outputs": [
    {
     "name": "stdout",
     "output_type": "stream",
     "text": [
      "Les vecteurs de base du réseau réciproque sont a* = 2.1088015600396606, b* = 2.1088015600396606 et c* = 2.10880102512953.\n"
     ]
    }
   ],
   "source": [
    "print(\"Les vecteurs de base du réseau réciproque sont a* = {0}, b* = {1} et c* = {2}.\".format(structure.lattice.reciprocal_lattice.abc[0], structure.lattice.reciprocal_lattice.abc[1], structure.lattice.reciprocal_lattice.abc[2]))"
   ]
  },
  {
   "cell_type": "code",
   "execution_count": 16,
   "id": "inclusive-planet",
   "metadata": {},
   "outputs": [
    {
     "name": "stdout",
     "output_type": "stream",
     "text": [
      "La maille est rhombohedral\n"
     ]
    }
   ],
   "source": [
    "print(\"La maille est\", Analyseur.get_lattice_type())"
   ]
  },
  {
   "cell_type": "code",
   "execution_count": 20,
   "id": "creative-verse",
   "metadata": {
    "scrolled": true
   },
   "outputs": [
    {
     "name": "stdout",
     "output_type": "stream",
     "text": [
      "Le système cristallin est trigonal\n"
     ]
    }
   ],
   "source": [
    "print(\"Le système cristallin est\", Analyseur.get_crystal_system())"
   ]
  },
  {
   "cell_type": "code",
   "execution_count": 21,
   "id": "subjective-hours",
   "metadata": {},
   "outputs": [
    {
     "name": "stdout",
     "output_type": "stream",
     "text": [
      "Le groupe ponctuel est -3m\n"
     ]
    }
   ],
   "source": [
    "print(\"Le groupe ponctuel est\", Analyseur.get_point_group_symbol())\n"
   ]
  }
 ],
 "metadata": {
  "kernelspec": {
   "display_name": "Python 3",
   "language": "python",
   "name": "python3"
  },
  "language_info": {
   "codemirror_mode": {
    "name": "ipython",
    "version": 3
   },
   "file_extension": ".py",
   "mimetype": "text/x-python",
   "name": "python",
   "nbconvert_exporter": "python",
   "pygments_lexer": "ipython3",
   "version": "3.6.8"
  }
 },
 "nbformat": 4,
 "nbformat_minor": 5
}
