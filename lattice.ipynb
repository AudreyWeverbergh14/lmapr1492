{
 "cells": [
  {
   "cell_type": "code",
   "execution_count": 1,
   "metadata": {},
   "outputs": [],
   "source": [
    "# Import \n",
    "import numpy as np\n",
    "from pymatgen import Lattice, Structure, Molecule\n",
    "from pymatgen.ext.matproj import MPRester\n",
    "from pymatgen.symmetry.analyzer import SpacegroupAnalyzer\n",
    "from pymatgen.analysis.diffraction.xrd import XRDCalculator\n",
    "from pymatgen.electronic_structure.plotter import BSPlotter\n",
    "from jupyter_jsmol.pymatgen import quick_view"
   ]
  },
  {
   "cell_type": "code",
   "execution_count": 2,
   "metadata": {},
   "outputs": [],
   "source": [
    "# Accéder aux données liées au cristal Na H F2 via l'API\n",
    "with MPRester(\"gTFWb3O68X2aDOkOAmv\") as m:\n",
    "\n",
    "    # Structure for material id\n",
    "    structure = m.get_structure_by_material_id(\"mp-27837\")\n",
    "    \n",
    "Analyseur = SpacegroupAnalyzer(structure)"
   ]
  },
  {
   "cell_type": "code",
   "execution_count": 25,
   "metadata": {
    "scrolled": true
   },
   "outputs": [
    {
     "name": "stdout",
     "output_type": "stream",
     "text": [
      "Les vecteurs de base du réseau direct sont :\n",
      "\n",
      "4.731921 -1.761374 0.000000\n",
      "4.731921 1.761374 0.000000\n",
      "4.076281 0.000000 2.979506 \n",
      "\n",
      "Les longueurs des vecteurs de base du réseau direct sont :\n",
      "\n",
      "a = 5.049110289755711\n",
      "b = 5.049110289755711\n",
      "c = 5.049111089587651\n"
     ]
    }
   ],
   "source": [
    "# Vecteurs de base du réseau direct\n",
    "print(\"Les vecteurs de base du réseau direct sont :\\n\")\n",
    "print(structure.lattice, \"\\n\")\n",
    "\n",
    "print(\"Les longueurs des vecteurs de base du réseau direct sont :\\n\")\n",
    "print(\"a =\",structure.lattice.abc[0])\n",
    "print(\"b =\", structure.lattice.abc[1])\n",
    "print(\"c =\", structure.lattice.abc[2])"
   ]
  },
  {
   "cell_type": "code",
   "execution_count": 27,
   "metadata": {
    "scrolled": false
   },
   "outputs": [
    {
     "name": "stdout",
     "output_type": "stream",
     "text": [
      "Les vecteurs de base du réseau réciproque sont :\n",
      "\n",
      "0.663915 -1.783603 -0.908306\n",
      "0.663915 1.783603 -0.908306\n",
      "0.000000 0.000000 2.108801 \n",
      "\n",
      "Les longueurs des vecteurs de base du réseau réciproque sont :\n",
      "\n",
      "a* = 2.1088015600396606\n",
      "b* = 2.1088015600396606\n",
      "c* = 2.10880102512953\n"
     ]
    }
   ],
   "source": [
    "# Vecteurs de base du réseau réciproque (utilisé avec un facteur 2pi)\n",
    "\n",
    "print(\"Les vecteurs de base du réseau réciproque sont :\\n\")\n",
    "print(structure.lattice.reciprocal_lattice, \"\\n\")\n",
    "\n",
    "print(\"Les longueurs des vecteurs de base du réseau réciproque sont :\\n\")\n",
    "print(\"a* =\",structure.lattice.reciprocal_lattice.abc[0])\n",
    "print(\"b* =\", structure.lattice.reciprocal_lattice.abc[1])\n",
    "print(\"c* =\", structure.lattice.reciprocal_lattice.abc[2])"
   ]
  },
  {
   "cell_type": "code",
   "execution_count": 28,
   "metadata": {
    "scrolled": true
   },
   "outputs": [
    {
     "name": "stdout",
     "output_type": "stream",
     "text": [
      "Les vecteurs de base du réseau réciproque cristallographique sont :\n",
      "\n",
      "0.105665 -0.283869 -0.144561\n",
      "0.105665 0.283869 -0.144561\n",
      "0.000000 0.000000 0.335626 \n",
      "\n",
      "Les longueurs des vecteurs de base du réseau réciproque cristallographique sont :\n",
      "\n",
      "a* = 0.3356261922802123\n",
      "b* = 0.33562619228021223\n",
      "c* = 0.33562610714662094\n"
     ]
    }
   ],
   "source": [
    "# Vecteurs de base du réseau réciproque cristallographique (sans facteur 2pi)\n",
    "\n",
    "print(\"Les vecteurs de base du réseau réciproque cristallographique sont :\\n\")\n",
    "print(structure.lattice.reciprocal_lattice_crystallographic, \"\\n\")\n",
    "\n",
    "print(\"Les longueurs des vecteurs de base du réseau réciproque cristallographique sont :\\n\")\n",
    "print(\"a* =\",structure.lattice.reciprocal_lattice_crystallographic.abc[0])\n",
    "print(\"b* =\", structure.lattice.reciprocal_lattice_crystallographic.abc[1])\n",
    "print(\"c* =\", structure.lattice.reciprocal_lattice_crystallographic.abc[2])"
   ]
  },
  {
   "cell_type": "code",
   "execution_count": 31,
   "metadata": {},
   "outputs": [
    {
     "name": "stdout",
     "output_type": "stream",
     "text": [
      "(40.833792175215514, 40.833792175215514, 40.83378745909509)\n"
     ]
    }
   ],
   "source": [
    "# Angles de la maille\n",
    "print(structure.lattice.angles)"
   ]
  },
  {
   "cell_type": "code",
   "execution_count": 30,
   "metadata": {},
   "outputs": [
    {
     "name": "stdout",
     "output_type": "stream",
     "text": [
      "La maille est rhombohedral\n"
     ]
    }
   ],
   "source": [
    "# Type de maille\n",
    "print(\"La maille est\", Analyseur.get_lattice_type())"
   ]
  },
  {
   "cell_type": "code",
   "execution_count": 33,
   "metadata": {
    "scrolled": true
   },
   "outputs": [
    {
     "name": "stdout",
     "output_type": "stream",
     "text": [
      "Le système cristallin est trigonal\n",
      "Ce système cristallin correspond bien à un système avec 3 longueurs identiques pour les vecteurs de base et 3 angles identiques entre ces vecteurs.\n"
     ]
    }
   ],
   "source": [
    "# Système cristallin\n",
    "print(\"Le système cristallin est\", Analyseur.get_crystal_system())\n",
    "print(\"Ce système cristallin correspond bien à un système avec 3 longueurs identiques pour les vecteurs de base et 3 angles identiques entre ces vecteurs.\")"
   ]
  },
  {
   "cell_type": "code",
   "execution_count": 34,
   "metadata": {},
   "outputs": [
    {
     "name": "stdout",
     "output_type": "stream",
     "text": [
      "Le groupe ponctuel est -3m\n"
     ]
    }
   ],
   "source": [
    "# Groupe ponctuel\n",
    "print(\"Le groupe ponctuel est\", Analyseur.get_point_group_symbol())\n"
   ]
  }
 ],
 "metadata": {
  "kernelspec": {
   "display_name": "Python 3",
   "language": "python",
   "name": "python3"
  },
  "language_info": {
   "codemirror_mode": {
    "name": "ipython",
    "version": 3
   },
   "file_extension": ".py",
   "mimetype": "text/x-python",
   "name": "python",
   "nbconvert_exporter": "python",
   "pygments_lexer": "ipython3",
   "version": "3.8.2"
  }
 },
 "nbformat": 4,
 "nbformat_minor": 5
}
